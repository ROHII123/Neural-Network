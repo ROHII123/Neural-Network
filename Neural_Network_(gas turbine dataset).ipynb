{
  "nbformat": 4,
  "nbformat_minor": 0,
  "metadata": {
    "colab": {
      "name": "Neural Network (gas turbine dataset)",
      "provenance": [],
      "collapsed_sections": []
    },
    "kernelspec": {
      "name": "python3",
      "display_name": "Python 3"
    },
    "language_info": {
      "name": "python"
    }
  },
  "cells": [
    {
      "cell_type": "markdown",
      "source": [
        "**Neural Network Model**\n",
        "\n",
        "\n",
        "**Gas_turbines dataset**"
      ],
      "metadata": {
        "id": "048AsjhRc0DV"
      }
    },
    {
      "cell_type": "code",
      "execution_count": 1,
      "metadata": {
        "id": "997xG6l4cfzH"
      },
      "outputs": [],
      "source": [
        "from tensorflow import keras\n",
        "from keras.models import Sequential\n",
        "from keras.layers import Dense\n",
        "import numpy as np\n",
        "import pandas as pd\n",
        "from sklearn.preprocessing import StandardScaler\n",
        "import math\n",
        "from sklearn.metrics import mean_squared_error"
      ]
    },
    {
      "cell_type": "code",
      "source": [
        "# Loading dataset"
      ],
      "metadata": {
        "id": "IOHRxvxAc_u1"
      },
      "execution_count": 2,
      "outputs": []
    },
    {
      "cell_type": "code",
      "source": [
        "data=pd.read_csv('/content/gas_turbines.csv')\n",
        "data"
      ],
      "metadata": {
        "colab": {
          "base_uri": "https://localhost:8080/",
          "height": 423
        },
        "id": "R09P0_OUdEqE",
        "outputId": "84911e21-9ca5-45f4-a536-836383190b7c"
      },
      "execution_count": 4,
      "outputs": [
        {
          "output_type": "execute_result",
          "data": {
            "text/html": [
              "\n",
              "  <div id=\"df-41ad23dd-a940-49b1-a401-ef4d47630d2a\">\n",
              "    <div class=\"colab-df-container\">\n",
              "      <div>\n",
              "<style scoped>\n",
              "    .dataframe tbody tr th:only-of-type {\n",
              "        vertical-align: middle;\n",
              "    }\n",
              "\n",
              "    .dataframe tbody tr th {\n",
              "        vertical-align: top;\n",
              "    }\n",
              "\n",
              "    .dataframe thead th {\n",
              "        text-align: right;\n",
              "    }\n",
              "</style>\n",
              "<table border=\"1\" class=\"dataframe\">\n",
              "  <thead>\n",
              "    <tr style=\"text-align: right;\">\n",
              "      <th></th>\n",
              "      <th>AT</th>\n",
              "      <th>AP</th>\n",
              "      <th>AH</th>\n",
              "      <th>AFDP</th>\n",
              "      <th>GTEP</th>\n",
              "      <th>TIT</th>\n",
              "      <th>TAT</th>\n",
              "      <th>TEY</th>\n",
              "      <th>CDP</th>\n",
              "      <th>CO</th>\n",
              "      <th>NOX</th>\n",
              "    </tr>\n",
              "  </thead>\n",
              "  <tbody>\n",
              "    <tr>\n",
              "      <th>0</th>\n",
              "      <td>6.8594</td>\n",
              "      <td>1007.9</td>\n",
              "      <td>96.799</td>\n",
              "      <td>3.5000</td>\n",
              "      <td>19.663</td>\n",
              "      <td>1059.2</td>\n",
              "      <td>550.00</td>\n",
              "      <td>114.70</td>\n",
              "      <td>10.605</td>\n",
              "      <td>3.1547</td>\n",
              "      <td>82.722</td>\n",
              "    </tr>\n",
              "    <tr>\n",
              "      <th>1</th>\n",
              "      <td>6.7850</td>\n",
              "      <td>1008.4</td>\n",
              "      <td>97.118</td>\n",
              "      <td>3.4998</td>\n",
              "      <td>19.728</td>\n",
              "      <td>1059.3</td>\n",
              "      <td>550.00</td>\n",
              "      <td>114.72</td>\n",
              "      <td>10.598</td>\n",
              "      <td>3.2363</td>\n",
              "      <td>82.776</td>\n",
              "    </tr>\n",
              "    <tr>\n",
              "      <th>2</th>\n",
              "      <td>6.8977</td>\n",
              "      <td>1008.8</td>\n",
              "      <td>95.939</td>\n",
              "      <td>3.4824</td>\n",
              "      <td>19.779</td>\n",
              "      <td>1059.4</td>\n",
              "      <td>549.87</td>\n",
              "      <td>114.71</td>\n",
              "      <td>10.601</td>\n",
              "      <td>3.2012</td>\n",
              "      <td>82.468</td>\n",
              "    </tr>\n",
              "    <tr>\n",
              "      <th>3</th>\n",
              "      <td>7.0569</td>\n",
              "      <td>1009.2</td>\n",
              "      <td>95.249</td>\n",
              "      <td>3.4805</td>\n",
              "      <td>19.792</td>\n",
              "      <td>1059.6</td>\n",
              "      <td>549.99</td>\n",
              "      <td>114.72</td>\n",
              "      <td>10.606</td>\n",
              "      <td>3.1923</td>\n",
              "      <td>82.670</td>\n",
              "    </tr>\n",
              "    <tr>\n",
              "      <th>4</th>\n",
              "      <td>7.3978</td>\n",
              "      <td>1009.7</td>\n",
              "      <td>95.150</td>\n",
              "      <td>3.4976</td>\n",
              "      <td>19.765</td>\n",
              "      <td>1059.7</td>\n",
              "      <td>549.98</td>\n",
              "      <td>114.72</td>\n",
              "      <td>10.612</td>\n",
              "      <td>3.2484</td>\n",
              "      <td>82.311</td>\n",
              "    </tr>\n",
              "    <tr>\n",
              "      <th>...</th>\n",
              "      <td>...</td>\n",
              "      <td>...</td>\n",
              "      <td>...</td>\n",
              "      <td>...</td>\n",
              "      <td>...</td>\n",
              "      <td>...</td>\n",
              "      <td>...</td>\n",
              "      <td>...</td>\n",
              "      <td>...</td>\n",
              "      <td>...</td>\n",
              "      <td>...</td>\n",
              "    </tr>\n",
              "    <tr>\n",
              "      <th>15034</th>\n",
              "      <td>9.0301</td>\n",
              "      <td>1005.6</td>\n",
              "      <td>98.460</td>\n",
              "      <td>3.5421</td>\n",
              "      <td>19.164</td>\n",
              "      <td>1049.7</td>\n",
              "      <td>546.21</td>\n",
              "      <td>111.61</td>\n",
              "      <td>10.400</td>\n",
              "      <td>4.5186</td>\n",
              "      <td>79.559</td>\n",
              "    </tr>\n",
              "    <tr>\n",
              "      <th>15035</th>\n",
              "      <td>7.8879</td>\n",
              "      <td>1005.9</td>\n",
              "      <td>99.093</td>\n",
              "      <td>3.5059</td>\n",
              "      <td>19.414</td>\n",
              "      <td>1046.3</td>\n",
              "      <td>543.22</td>\n",
              "      <td>111.78</td>\n",
              "      <td>10.433</td>\n",
              "      <td>4.8470</td>\n",
              "      <td>79.917</td>\n",
              "    </tr>\n",
              "    <tr>\n",
              "      <th>15036</th>\n",
              "      <td>7.2647</td>\n",
              "      <td>1006.3</td>\n",
              "      <td>99.496</td>\n",
              "      <td>3.4770</td>\n",
              "      <td>19.530</td>\n",
              "      <td>1037.7</td>\n",
              "      <td>537.32</td>\n",
              "      <td>110.19</td>\n",
              "      <td>10.483</td>\n",
              "      <td>7.9632</td>\n",
              "      <td>90.912</td>\n",
              "    </tr>\n",
              "    <tr>\n",
              "      <th>15037</th>\n",
              "      <td>7.0060</td>\n",
              "      <td>1006.8</td>\n",
              "      <td>99.008</td>\n",
              "      <td>3.4486</td>\n",
              "      <td>19.377</td>\n",
              "      <td>1043.2</td>\n",
              "      <td>541.24</td>\n",
              "      <td>110.74</td>\n",
              "      <td>10.533</td>\n",
              "      <td>6.2494</td>\n",
              "      <td>93.227</td>\n",
              "    </tr>\n",
              "    <tr>\n",
              "      <th>15038</th>\n",
              "      <td>6.9279</td>\n",
              "      <td>1007.2</td>\n",
              "      <td>97.533</td>\n",
              "      <td>3.4275</td>\n",
              "      <td>19.306</td>\n",
              "      <td>1049.9</td>\n",
              "      <td>545.85</td>\n",
              "      <td>111.58</td>\n",
              "      <td>10.583</td>\n",
              "      <td>4.9816</td>\n",
              "      <td>92.498</td>\n",
              "    </tr>\n",
              "  </tbody>\n",
              "</table>\n",
              "<p>15039 rows × 11 columns</p>\n",
              "</div>\n",
              "      <button class=\"colab-df-convert\" onclick=\"convertToInteractive('df-41ad23dd-a940-49b1-a401-ef4d47630d2a')\"\n",
              "              title=\"Convert this dataframe to an interactive table.\"\n",
              "              style=\"display:none;\">\n",
              "        \n",
              "  <svg xmlns=\"http://www.w3.org/2000/svg\" height=\"24px\"viewBox=\"0 0 24 24\"\n",
              "       width=\"24px\">\n",
              "    <path d=\"M0 0h24v24H0V0z\" fill=\"none\"/>\n",
              "    <path d=\"M18.56 5.44l.94 2.06.94-2.06 2.06-.94-2.06-.94-.94-2.06-.94 2.06-2.06.94zm-11 1L8.5 8.5l.94-2.06 2.06-.94-2.06-.94L8.5 2.5l-.94 2.06-2.06.94zm10 10l.94 2.06.94-2.06 2.06-.94-2.06-.94-.94-2.06-.94 2.06-2.06.94z\"/><path d=\"M17.41 7.96l-1.37-1.37c-.4-.4-.92-.59-1.43-.59-.52 0-1.04.2-1.43.59L10.3 9.45l-7.72 7.72c-.78.78-.78 2.05 0 2.83L4 21.41c.39.39.9.59 1.41.59.51 0 1.02-.2 1.41-.59l7.78-7.78 2.81-2.81c.8-.78.8-2.07 0-2.86zM5.41 20L4 18.59l7.72-7.72 1.47 1.35L5.41 20z\"/>\n",
              "  </svg>\n",
              "      </button>\n",
              "      \n",
              "  <style>\n",
              "    .colab-df-container {\n",
              "      display:flex;\n",
              "      flex-wrap:wrap;\n",
              "      gap: 12px;\n",
              "    }\n",
              "\n",
              "    .colab-df-convert {\n",
              "      background-color: #E8F0FE;\n",
              "      border: none;\n",
              "      border-radius: 50%;\n",
              "      cursor: pointer;\n",
              "      display: none;\n",
              "      fill: #1967D2;\n",
              "      height: 32px;\n",
              "      padding: 0 0 0 0;\n",
              "      width: 32px;\n",
              "    }\n",
              "\n",
              "    .colab-df-convert:hover {\n",
              "      background-color: #E2EBFA;\n",
              "      box-shadow: 0px 1px 2px rgba(60, 64, 67, 0.3), 0px 1px 3px 1px rgba(60, 64, 67, 0.15);\n",
              "      fill: #174EA6;\n",
              "    }\n",
              "\n",
              "    [theme=dark] .colab-df-convert {\n",
              "      background-color: #3B4455;\n",
              "      fill: #D2E3FC;\n",
              "    }\n",
              "\n",
              "    [theme=dark] .colab-df-convert:hover {\n",
              "      background-color: #434B5C;\n",
              "      box-shadow: 0px 1px 3px 1px rgba(0, 0, 0, 0.15);\n",
              "      filter: drop-shadow(0px 1px 2px rgba(0, 0, 0, 0.3));\n",
              "      fill: #FFFFFF;\n",
              "    }\n",
              "  </style>\n",
              "\n",
              "      <script>\n",
              "        const buttonEl =\n",
              "          document.querySelector('#df-41ad23dd-a940-49b1-a401-ef4d47630d2a button.colab-df-convert');\n",
              "        buttonEl.style.display =\n",
              "          google.colab.kernel.accessAllowed ? 'block' : 'none';\n",
              "\n",
              "        async function convertToInteractive(key) {\n",
              "          const element = document.querySelector('#df-41ad23dd-a940-49b1-a401-ef4d47630d2a');\n",
              "          const dataTable =\n",
              "            await google.colab.kernel.invokeFunction('convertToInteractive',\n",
              "                                                     [key], {});\n",
              "          if (!dataTable) return;\n",
              "\n",
              "          const docLinkHtml = 'Like what you see? Visit the ' +\n",
              "            '<a target=\"_blank\" href=https://colab.research.google.com/notebooks/data_table.ipynb>data table notebook</a>'\n",
              "            + ' to learn more about interactive tables.';\n",
              "          element.innerHTML = '';\n",
              "          dataTable['output_type'] = 'display_data';\n",
              "          await google.colab.output.renderOutput(dataTable, element);\n",
              "          const docLink = document.createElement('div');\n",
              "          docLink.innerHTML = docLinkHtml;\n",
              "          element.appendChild(docLink);\n",
              "        }\n",
              "      </script>\n",
              "    </div>\n",
              "  </div>\n",
              "  "
            ],
            "text/plain": [
              "           AT      AP      AH    AFDP    GTEP     TIT     TAT     TEY     CDP  \\\n",
              "0      6.8594  1007.9  96.799  3.5000  19.663  1059.2  550.00  114.70  10.605   \n",
              "1      6.7850  1008.4  97.118  3.4998  19.728  1059.3  550.00  114.72  10.598   \n",
              "2      6.8977  1008.8  95.939  3.4824  19.779  1059.4  549.87  114.71  10.601   \n",
              "3      7.0569  1009.2  95.249  3.4805  19.792  1059.6  549.99  114.72  10.606   \n",
              "4      7.3978  1009.7  95.150  3.4976  19.765  1059.7  549.98  114.72  10.612   \n",
              "...       ...     ...     ...     ...     ...     ...     ...     ...     ...   \n",
              "15034  9.0301  1005.6  98.460  3.5421  19.164  1049.7  546.21  111.61  10.400   \n",
              "15035  7.8879  1005.9  99.093  3.5059  19.414  1046.3  543.22  111.78  10.433   \n",
              "15036  7.2647  1006.3  99.496  3.4770  19.530  1037.7  537.32  110.19  10.483   \n",
              "15037  7.0060  1006.8  99.008  3.4486  19.377  1043.2  541.24  110.74  10.533   \n",
              "15038  6.9279  1007.2  97.533  3.4275  19.306  1049.9  545.85  111.58  10.583   \n",
              "\n",
              "           CO     NOX  \n",
              "0      3.1547  82.722  \n",
              "1      3.2363  82.776  \n",
              "2      3.2012  82.468  \n",
              "3      3.1923  82.670  \n",
              "4      3.2484  82.311  \n",
              "...       ...     ...  \n",
              "15034  4.5186  79.559  \n",
              "15035  4.8470  79.917  \n",
              "15036  7.9632  90.912  \n",
              "15037  6.2494  93.227  \n",
              "15038  4.9816  92.498  \n",
              "\n",
              "[15039 rows x 11 columns]"
            ]
          },
          "metadata": {},
          "execution_count": 4
        }
      ]
    },
    {
      "cell_type": "code",
      "source": [
        "data.columns"
      ],
      "metadata": {
        "colab": {
          "base_uri": "https://localhost:8080/"
        },
        "id": "a1rIFqHBdHG-",
        "outputId": "046f6d6d-3cbd-42b8-ff77-c1174a75ac2d"
      },
      "execution_count": 5,
      "outputs": [
        {
          "output_type": "execute_result",
          "data": {
            "text/plain": [
              "Index(['AT', 'AP', 'AH', 'AFDP', 'GTEP', 'TIT', 'TAT', 'TEY', 'CDP', 'CO',\n",
              "       'NOX'],\n",
              "      dtype='object')"
            ]
          },
          "metadata": {},
          "execution_count": 5
        }
      ]
    },
    {
      "cell_type": "code",
      "source": [
        "# Using only ambient variables as features and TEY as target variable as given in problem statement"
      ],
      "metadata": {
        "id": "2K7z2qbPdX-q"
      },
      "execution_count": null,
      "outputs": []
    },
    {
      "cell_type": "code",
      "source": [
        "x=data[['AT', 'AP', 'AH']]\n",
        "y=data['TEY']"
      ],
      "metadata": {
        "id": "M-5A06P9da7-"
      },
      "execution_count": 6,
      "outputs": []
    },
    {
      "cell_type": "code",
      "source": [
        "# Splitting data to train and test"
      ],
      "metadata": {
        "id": "I2ttTyYqdbYU"
      },
      "execution_count": 7,
      "outputs": []
    },
    {
      "cell_type": "code",
      "source": [
        "from sklearn.model_selection import train_test_split\n",
        "x_train, x_test, y_train, y_test = train_test_split(x, y, test_size=0.3, random_state=42)\n",
        " \n",
        "\n",
        "print(x_train.shape)\n",
        "print(y_train.shape)\n",
        "print(x_test.shape)\n",
        "print(y_test.shape)"
      ],
      "metadata": {
        "colab": {
          "base_uri": "https://localhost:8080/"
        },
        "id": "bnEr398cd6-m",
        "outputId": "4bd82b25-ab39-4715-c835-58421e514e9f"
      },
      "execution_count": 8,
      "outputs": [
        {
          "output_type": "stream",
          "name": "stdout",
          "text": [
            "(10527, 3)\n",
            "(10527,)\n",
            "(4512, 3)\n",
            "(4512,)\n"
          ]
        }
      ]
    },
    {
      "cell_type": "code",
      "source": [
        "# Buliding model with 3 hidden layers"
      ],
      "metadata": {
        "id": "3LAWPk1ld9eE"
      },
      "execution_count": 9,
      "outputs": []
    },
    {
      "cell_type": "code",
      "source": [
        "model = Sequential()\n",
        "model.add(Dense(units=12, input_dim=3, kernel_initializer='normal', activation='relu'))\n",
        "model.add(Dense(units=8, kernel_initializer='normal', activation='tanh'))\n",
        "model.add(Dense(1, kernel_initializer='normal'))"
      ],
      "metadata": {
        "id": "HOTQzg38eAGf"
      },
      "execution_count": 10,
      "outputs": []
    },
    {
      "cell_type": "code",
      "source": [
        "# Compiling the model with Mean squared error as this is regression problem"
      ],
      "metadata": {
        "id": "-vJieh75eCon"
      },
      "execution_count": 11,
      "outputs": []
    },
    {
      "cell_type": "code",
      "source": [
        "model.compile(loss='mean_squared_error', optimizer='adam')"
      ],
      "metadata": {
        "id": "UbNndY6HeFtQ"
      },
      "execution_count": 12,
      "outputs": []
    },
    {
      "cell_type": "code",
      "source": [
        "# Fitting the model with 50 epochs and batch size as 10"
      ],
      "metadata": {
        "id": "McSFSPj_eIxh"
      },
      "execution_count": 13,
      "outputs": []
    },
    {
      "cell_type": "code",
      "source": [
        "m=model.fit(x_train, y_train, epochs=50, batch_size=10)"
      ],
      "metadata": {
        "colab": {
          "base_uri": "https://localhost:8080/"
        },
        "id": "nm3LhDUxeLKl",
        "outputId": "685f548d-c302-494b-b767-d2a3f9925d26"
      },
      "execution_count": 14,
      "outputs": [
        {
          "output_type": "stream",
          "name": "stdout",
          "text": [
            "Epoch 1/50\n",
            "1053/1053 [==============================] - 4s 3ms/step - loss: 16997.9023\n",
            "Epoch 2/50\n",
            "1053/1053 [==============================] - 2s 1ms/step - loss: 14695.7793\n",
            "Epoch 3/50\n",
            "1053/1053 [==============================] - 2s 2ms/step - loss: 12613.1719\n",
            "Epoch 4/50\n",
            "1053/1053 [==============================] - 2s 1ms/step - loss: 10722.0889\n",
            "Epoch 5/50\n",
            "1053/1053 [==============================] - 2s 1ms/step - loss: 9007.9727\n",
            "Epoch 6/50\n",
            "1053/1053 [==============================] - 2s 1ms/step - loss: 7462.3955\n",
            "Epoch 7/50\n",
            "1053/1053 [==============================] - 2s 1ms/step - loss: 6080.1978\n",
            "Epoch 8/50\n",
            "1053/1053 [==============================] - 2s 1ms/step - loss: 4859.7964\n",
            "Epoch 9/50\n",
            "1053/1053 [==============================] - 2s 1ms/step - loss: 3796.5027\n",
            "Epoch 10/50\n",
            "1053/1053 [==============================] - 2s 2ms/step - loss: 2886.0125\n",
            "Epoch 11/50\n",
            "1053/1053 [==============================] - 3s 3ms/step - loss: 2126.1272\n",
            "Epoch 12/50\n",
            "1053/1053 [==============================] - 2s 2ms/step - loss: 1512.4778\n",
            "Epoch 13/50\n",
            "1053/1053 [==============================] - 2s 2ms/step - loss: 1036.4946\n",
            "Epoch 14/50\n",
            "1053/1053 [==============================] - 2s 2ms/step - loss: 690.0191\n",
            "Epoch 15/50\n",
            "1053/1053 [==============================] - 2s 2ms/step - loss: 460.9966\n",
            "Epoch 16/50\n",
            "1053/1053 [==============================] - 2s 2ms/step - loss: 329.7933\n",
            "Epoch 17/50\n",
            "1053/1053 [==============================] - 3s 2ms/step - loss: 270.8744\n",
            "Epoch 18/50\n",
            "1053/1053 [==============================] - 2s 2ms/step - loss: 253.0973\n",
            "Epoch 19/50\n",
            "1053/1053 [==============================] - 2s 1ms/step - loss: 250.0287\n",
            "Epoch 20/50\n",
            "1053/1053 [==============================] - 2s 2ms/step - loss: 249.8053\n",
            "Epoch 21/50\n",
            "1053/1053 [==============================] - 2s 2ms/step - loss: 249.7977\n",
            "Epoch 22/50\n",
            "1053/1053 [==============================] - 3s 3ms/step - loss: 249.8263\n",
            "Epoch 23/50\n",
            "1053/1053 [==============================] - 2s 1ms/step - loss: 249.8113\n",
            "Epoch 24/50\n",
            "1053/1053 [==============================] - 2s 1ms/step - loss: 249.8047\n",
            "Epoch 25/50\n",
            "1053/1053 [==============================] - 2s 1ms/step - loss: 249.8001\n",
            "Epoch 26/50\n",
            "1053/1053 [==============================] - 2s 2ms/step - loss: 249.7858\n",
            "Epoch 27/50\n",
            "1053/1053 [==============================] - 2s 2ms/step - loss: 249.8068\n",
            "Epoch 28/50\n",
            "1053/1053 [==============================] - 2s 2ms/step - loss: 249.8082\n",
            "Epoch 29/50\n",
            "1053/1053 [==============================] - 2s 2ms/step - loss: 249.8177\n",
            "Epoch 30/50\n",
            "1053/1053 [==============================] - 2s 2ms/step - loss: 249.8036\n",
            "Epoch 31/50\n",
            "1053/1053 [==============================] - 2s 1ms/step - loss: 249.8142\n",
            "Epoch 32/50\n",
            "1053/1053 [==============================] - 2s 2ms/step - loss: 249.8086\n",
            "Epoch 33/50\n",
            "1053/1053 [==============================] - 2s 2ms/step - loss: 249.8049\n",
            "Epoch 34/50\n",
            "1053/1053 [==============================] - 3s 2ms/step - loss: 249.8167\n",
            "Epoch 35/50\n",
            "1053/1053 [==============================] - 3s 3ms/step - loss: 249.8194\n",
            "Epoch 36/50\n",
            "1053/1053 [==============================] - 2s 2ms/step - loss: 249.8066\n",
            "Epoch 37/50\n",
            "1053/1053 [==============================] - 2s 1ms/step - loss: 249.8125\n",
            "Epoch 38/50\n",
            "1053/1053 [==============================] - 2s 1ms/step - loss: 249.8146\n",
            "Epoch 39/50\n",
            "1053/1053 [==============================] - 2s 1ms/step - loss: 249.8162\n",
            "Epoch 40/50\n",
            "1053/1053 [==============================] - 2s 1ms/step - loss: 249.8082\n",
            "Epoch 41/50\n",
            "1053/1053 [==============================] - 2s 2ms/step - loss: 249.8022\n",
            "Epoch 42/50\n",
            "1053/1053 [==============================] - 2s 2ms/step - loss: 249.8142\n",
            "Epoch 43/50\n",
            "1053/1053 [==============================] - 2s 2ms/step - loss: 249.8070\n",
            "Epoch 44/50\n",
            "1053/1053 [==============================] - 2s 2ms/step - loss: 249.8032\n",
            "Epoch 45/50\n",
            "1053/1053 [==============================] - 2s 1ms/step - loss: 249.8133\n",
            "Epoch 46/50\n",
            "1053/1053 [==============================] - 2s 2ms/step - loss: 249.8143\n",
            "Epoch 47/50\n",
            "1053/1053 [==============================] - 2s 2ms/step - loss: 249.8191\n",
            "Epoch 48/50\n",
            "1053/1053 [==============================] - 2s 2ms/step - loss: 249.8112\n",
            "Epoch 49/50\n",
            "1053/1053 [==============================] - 2s 2ms/step - loss: 249.7945\n",
            "Epoch 50/50\n",
            "1053/1053 [==============================] - 2s 1ms/step - loss: 249.8290\n"
          ]
        }
      ]
    },
    {
      "cell_type": "code",
      "source": [
        "# Predicting for test data"
      ],
      "metadata": {
        "id": "rjHHxZhpeNzh"
      },
      "execution_count": 15,
      "outputs": []
    },
    {
      "cell_type": "code",
      "source": [
        "Predictions=model.predict(x_test)\n",
        "Predictions"
      ],
      "metadata": {
        "colab": {
          "base_uri": "https://localhost:8080/"
        },
        "id": "qoW5jVZweSQt",
        "outputId": "ecf060af-ec7c-4a8a-8b54-1a289066fe74"
      },
      "execution_count": 16,
      "outputs": [
        {
          "output_type": "execute_result",
          "data": {
            "text/plain": [
              "array([[134.34671],\n",
              "       [134.34671],\n",
              "       [134.34671],\n",
              "       ...,\n",
              "       [134.34671],\n",
              "       [134.34671],\n",
              "       [134.34671]], dtype=float32)"
            ]
          },
          "metadata": {},
          "execution_count": 16
        }
      ]
    },
    {
      "cell_type": "code",
      "source": [
        "print(y_test)"
      ],
      "metadata": {
        "colab": {
          "base_uri": "https://localhost:8080/"
        },
        "id": "BOe_KM8ceVGK",
        "outputId": "da34b33d-b02d-4738-e4db-55466fba7766"
      },
      "execution_count": 18,
      "outputs": [
        {
          "output_type": "stream",
          "name": "stdout",
          "text": [
            "13312    134.46\n",
            "12627    111.88\n",
            "6393     133.72\n",
            "4990     133.79\n",
            "12462    110.77\n",
            "          ...  \n",
            "7495     134.08\n",
            "11501    102.87\n",
            "2685     155.96\n",
            "9412     133.67\n",
            "9775     156.32\n",
            "Name: TEY, Length: 4512, dtype: float64\n"
          ]
        }
      ]
    },
    {
      "cell_type": "code",
      "source": [
        "# Finding the error for our model"
      ],
      "metadata": {
        "id": "Q4B6s352eXcg"
      },
      "execution_count": 19,
      "outputs": []
    },
    {
      "cell_type": "code",
      "source": [
        "mean_squared_error(y_test,Predictions)\n",
        "math.sqrt(mean_squared_error(y_test,Predictions))"
      ],
      "metadata": {
        "colab": {
          "base_uri": "https://localhost:8080/"
        },
        "id": "bl8NnufzeaZv",
        "outputId": "ecdd6c95-69a1-4fab-902d-6a89c6a698d4"
      },
      "execution_count": 20,
      "outputs": [
        {
          "output_type": "execute_result",
          "data": {
            "text/plain": [
              "15.889526776816863"
            ]
          },
          "metadata": {},
          "execution_count": 20
        }
      ]
    },
    {
      "cell_type": "markdown",
      "source": [
        "**We got error of 15.8 for our model using above parameters**"
      ],
      "metadata": {
        "id": "rKbwhgi_egcM"
      }
    },
    {
      "cell_type": "code",
      "source": [
        ""
      ],
      "metadata": {
        "id": "e5dFqUXhec7t"
      },
      "execution_count": 20,
      "outputs": []
    }
  ]
}